{
 "cells": [
  {
   "cell_type": "code",
   "execution_count": 3,
   "metadata": {},
   "outputs": [],
   "source": [
    "import git"
   ]
  },
  {
   "cell_type": "code",
   "execution_count": 6,
   "metadata": {},
   "outputs": [],
   "source": [
    "# Get Local Repo\n",
    "local_repo_path = 'D:/Koding Next/06 - Work Project/github/TestingforWork'\n",
    "repo = git.Repo(local_repo_path)"
   ]
  },
  {
   "cell_type": "code",
   "execution_count": 2,
   "metadata": {},
   "outputs": [],
   "source": [
    "def git_pull_push():\n",
    "    return \"a\""
   ]
  },
  {
   "cell_type": "code",
   "execution_count": 9,
   "metadata": {},
   "outputs": [
    {
     "data": {
      "text/plain": [
       "'On branch main\\nYour branch is up to date with \\'origin/main\\'.\\n\\nUntracked files:\\n  (use \"git add <file>...\" to include in what will be committed)\\n\\tauto-github.sh\\n\\tautomation-github.py\\n\\tpygit_logger.log\\n\\ttesting-git-library.ipynb\\n\\nnothing added to commit but untracked files present (use \"git add\" to track)'"
      ]
     },
     "execution_count": 9,
     "metadata": {},
     "output_type": "execute_result"
    }
   ],
   "source": [
    "#Git Status\n",
    "# repo.git.execute(\"git status\")\n",
    "repo.git.status()"
   ]
  },
  {
   "cell_type": "code",
   "execution_count": null,
   "metadata": {},
   "outputs": [],
   "source": [
    "#Git Pull\n",
    "# repo.git.execute(\"git pull\")\n",
    "repo.git.pull()"
   ]
  },
  {
   "cell_type": "code",
   "execution_count": null,
   "metadata": {},
   "outputs": [],
   "source": [
    "# repo.git.execute(\"git add .\")\n",
    "repo.git.add(\".\")"
   ]
  },
  {
   "cell_type": "code",
   "execution_count": null,
   "metadata": {},
   "outputs": [],
   "source": [
    "# repo.git.execute('''git commit -m \"Add new student Project\"''')\n",
    "repo.git.commit(\"Add new student Project\") "
   ]
  },
  {
   "cell_type": "code",
   "execution_count": null,
   "metadata": {},
   "outputs": [],
   "source": [
    "# repo.git.execute(\"git push\")\n",
    "repo.git.push()"
   ]
  }
 ],
 "metadata": {
  "kernelspec": {
   "display_name": "Python 3",
   "language": "python",
   "name": "python3"
  },
  "language_info": {
   "codemirror_mode": {
    "name": "ipython",
    "version": 3
   },
   "file_extension": ".py",
   "mimetype": "text/x-python",
   "name": "python",
   "nbconvert_exporter": "python",
   "pygments_lexer": "ipython3",
   "version": "3.10.0"
  }
 },
 "nbformat": 4,
 "nbformat_minor": 2
}
